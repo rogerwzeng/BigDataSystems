{
  "nbformat": 4,
  "nbformat_minor": 0,
  "metadata": {
    "colab": {
      "provenance": [],
      "gpuType": "T4",
      "authorship_tag": "ABX9TyN3PckfWl146K4oCMz2ZNhl",
      "include_colab_link": true
    },
    "kernelspec": {
      "name": "python3",
      "display_name": "Python 3"
    },
    "language_info": {
      "name": "python"
    },
    "accelerator": "GPU"
  },
  "cells": [
    {
      "cell_type": "markdown",
      "metadata": {
        "id": "view-in-github",
        "colab_type": "text"
      },
      "source": [
        "<a href=\"https://colab.research.google.com/github/rogerwzeng/BigDataSystems/blob/main/muTwoProfiler.ipynb\" target=\"_parent\"><img src=\"https://colab.research.google.com/assets/colab-badge.svg\" alt=\"Open In Colab\"/></a>"
      ]
    },
    {
      "cell_type": "markdown",
      "source": [
        "## CS265 Systems Project - Activation Checkpointing\n",
        "### Implementing the $\\mu$-Two Compiler\n",
        "### Spring 2025, Harvard University"
      ],
      "metadata": {
        "id": "JLe8UELsJ8IH"
      }
    },
    {
      "cell_type": "code",
      "source": [
        "!pip install wandb onnx datasets -Uq"
      ],
      "metadata": {
        "id": "ixvP2aJgzyfY",
        "colab": {
          "base_uri": "https://localhost:8080/"
        },
        "outputId": "3936444f-eeca-4bdd-9ae7-512bee97ba3c"
      },
      "execution_count": 2,
      "outputs": [
        {
          "output_type": "stream",
          "name": "stdout",
          "text": [
            "\u001b[2K   \u001b[90m━━━━━━━━━━━━━━━━━━━━━━━━━━━━━━━━━━━━━━━━\u001b[0m \u001b[32m16.0/16.0 MB\u001b[0m \u001b[31m42.0 MB/s\u001b[0m eta \u001b[36m0:00:00\u001b[0m\n",
            "\u001b[2K   \u001b[90m━━━━━━━━━━━━━━━━━━━━━━━━━━━━━━━━━━━━━━━━\u001b[0m \u001b[32m484.9/484.9 kB\u001b[0m \u001b[31m23.2 MB/s\u001b[0m eta \u001b[36m0:00:00\u001b[0m\n",
            "\u001b[2K   \u001b[90m━━━━━━━━━━━━━━━━━━━━━━━━━━━━━━━━━━━━━━━━\u001b[0m \u001b[32m116.3/116.3 kB\u001b[0m \u001b[31m9.6 MB/s\u001b[0m eta \u001b[36m0:00:00\u001b[0m\n",
            "\u001b[2K   \u001b[90m━━━━━━━━━━━━━━━━━━━━━━━━━━━━━━━━━━━━━━━━\u001b[0m \u001b[32m143.5/143.5 kB\u001b[0m \u001b[31m11.8 MB/s\u001b[0m eta \u001b[36m0:00:00\u001b[0m\n",
            "\u001b[2K   \u001b[90m━━━━━━━━━━━━━━━━━━━━━━━━━━━━━━━━━━━━━━━━\u001b[0m \u001b[32m194.8/194.8 kB\u001b[0m \u001b[31m11.1 MB/s\u001b[0m eta \u001b[36m0:00:00\u001b[0m\n",
            "\u001b[?25h"
          ]
        }
      ]
    },
    {
      "cell_type": "code",
      "source": [
        "import os\n",
        "os.environ['PATH'] += ':/usr/local/cuda-11.0/bin'"
      ],
      "metadata": {
        "id": "QUqVQAVEsUv4"
      },
      "execution_count": 3,
      "outputs": []
    },
    {
      "cell_type": "code",
      "source": [
        "from google.colab import drive\n",
        "# drive.mount('/content/drive', force_remount=True)"
      ],
      "metadata": {
        "id": "dV7FFMfbHJms"
      },
      "execution_count": 4,
      "outputs": []
    },
    {
      "cell_type": "code",
      "source": [
        "# -----------\n",
        "# mu-Two Profiler\n",
        "# -----------\n",
        "import operator\n",
        "import time\n",
        "import pdb\n",
        "import numpy as np\n",
        "from typing import Any, Dict, List\n",
        "from dataclasses import dataclass\n",
        "import torch\n",
        "from torch import nn as nn\n",
        "from torch import fx as fx\n",
        "from torch.cuda import Event\n",
        "from torch.fx import symbolic_trace, Interpreter, Node, GraphModule\n",
        "from torch.autograd import grad\n",
        "from torch.profiler import profile, record_function, ProfilerActivity, DeviceType\n",
        "from torch.utils.data import DataLoader\n",
        "from torch.utils.checkpoint import checkpoint\n",
        "from torchvision import datasets\n",
        "import torchvision.models as models\n",
        "from torchvision.transforms import ToTensor, Lambda, Compose\n",
        "from transformers import BertModel, BertTokenizer\n",
        "import matplotlib.pyplot as plt\n"
      ],
      "metadata": {
        "id": "lDBMQNXnEaGT"
      },
      "execution_count": 5,
      "outputs": []
    },
    {
      "cell_type": "code",
      "execution_count": 6,
      "metadata": {
        "id": "DxxKsxXP647S",
        "colab": {
          "base_uri": "https://localhost:8080/"
        },
        "outputId": "17d79fc2-128a-4d94-cc9d-9be6dd353b55"
      },
      "outputs": [
        {
          "output_type": "stream",
          "name": "stderr",
          "text": [
            "\u001b[34m\u001b[1mwandb\u001b[0m: \u001b[33mWARNING\u001b[0m If you're specifying your api key in code, ensure this code is not shared publicly.\n",
            "\u001b[34m\u001b[1mwandb\u001b[0m: \u001b[33mWARNING\u001b[0m Consider setting the WANDB_API_KEY environment variable, or running `wandb login` from the command line.\n",
            "\u001b[34m\u001b[1mwandb\u001b[0m: Appending key for api.wandb.ai to your netrc file: /root/.netrc\n",
            "\u001b[34m\u001b[1mwandb\u001b[0m: Currently logged in as: \u001b[33mrogerwzeng\u001b[0m (\u001b[33mrogerwzeng-harvard-university\u001b[0m) to \u001b[32mhttps://api.wandb.ai\u001b[0m. Use \u001b[1m`wandb login --relogin`\u001b[0m to force relogin\n"
          ]
        },
        {
          "output_type": "execute_result",
          "data": {
            "text/plain": [
              "True"
            ]
          },
          "metadata": {},
          "execution_count": 6
        }
      ],
      "source": [
        "import wandb\n",
        "from google.colab import userdata\n",
        "wb_api_key = userdata.get('WANDB_API_KEY')\n",
        "wandb.login(key = wb_api_key)"
      ]
    },
    {
      "cell_type": "code",
      "execution_count": 41,
      "metadata": {
        "id": "XS1XQ4wjEtIP"
      },
      "outputs": [],
      "source": [
        "# ------------------------------------\n",
        "# mu-Two Profiler: extended torch.fx Interpreter\n",
        "# ------------------------------------\n",
        "\n",
        "@dataclass\n",
        "class NodeProfile:\n",
        "    first_fwd_access: int = -1\n",
        "    last_fwd_access: int = -1\n",
        "    first_bwd_access: int = -1\n",
        "    last_bwd_access: int = -1\n",
        "    cuda_time: float = 0.0\n",
        "    memory_consumed: int = 0\n",
        "    swap_in_time: float = 0.0\n",
        "    swap_out_time: float = 0.0\n",
        "\n",
        "class MemoryProfiler(torch.profiler.profile):\n",
        "    def __init__(self, module: nn.Module, batch_size: int, input_shape):\n",
        "        super().__init__(\n",
        "            activities=[ProfilerActivity.CUDA],\n",
        "            record_shapes=False, profile_memory=True,\n",
        "            with_stack=False)\n",
        "\n",
        "        # Compile the module\n",
        "        self.module = torch.compile(\n",
        "            module,\n",
        "            backend=\"inductor\",  # inductor,\n",
        "            mode=\"default\"  # Options: 'default', 'reduce-overhead', 'max-autotune'\n",
        "        )\n",
        "\n",
        "        if not torch.cuda.is_available():\n",
        "          raise RuntimeError(\"CUDA device required for profiling\")\n",
        "        self.device = 'cuda'\n",
        "\n",
        "        self.batch_size = batch_size\n",
        "        self.input_shape = input_shape\n",
        "        self.node_profiles: Dict[str, NodeProfile] = {}\n",
        "        self.current_step = 0\n",
        "        self.is_backward = False\n",
        "\n",
        "        # Initialize CUDA events for timing\n",
        "        self.start_event = Event(enable_timing=True)\n",
        "        self.end_event = Event(enable_timing=True)\n",
        "        self.swap_in_start = Event(enable_timing=True)\n",
        "        self.swap_in_end = Event(enable_timing=True)\n",
        "        self.swap_out_start = Event(enable_timing=True)\n",
        "        self.swap_out_end = Event(enable_timing=True)\n",
        "\n",
        "        # Pinned memory buffer for efficient transfers\n",
        "        self.pinned_memory = torch.empty((batch_size, 3, 224, 224),\n",
        "                dtype=torch.float32, device='cpu', pin_memory=True)\n",
        "\n",
        "    def run_node(self, node: fx.Node) -> Any:\n",
        "        # Record access patterns in NodeProfile\n",
        "        if node.name not in self.node_profiles:\n",
        "            self.node_profiles[node.name] = NodeProfile()\n",
        "\n",
        "        profile_data = self.node_profiles[node.name]\n",
        "\n",
        "        if not self.is_backward:\n",
        "            if profile_data.first_fwd_access == -1:\n",
        "                profile_data.first_fwd_access = self.current_step\n",
        "            profile_data.last_fwd_access = self.current_step\n",
        "        else:\n",
        "            if profile_data.first_bwd_access == -1:\n",
        "                profile_data.first_bwd_access = self.current_step\n",
        "            profile_data.last_bwd_access = self.current_step\n",
        "\n",
        "        # Profile CUDA operations\n",
        "        with profile(activities=activities, record_shapes=False, with_stack=False, profile_memory=True) as prof:\n",
        "          with record_function(f\"node_{node.name}\"):\n",
        "              # Measure swap-in time if needed\n",
        "              self.start_event.record()\n",
        "              # Use compiled graph for execution\n",
        "              if hasattr(node, 'target') and callable(node.target):\n",
        "                result = self.compiled_graph(node.args[0] if node.args else None)\n",
        "              else:\n",
        "                result = super().run_node(node)\n",
        "              self.end_event.record()\n",
        "\n",
        "              torch.cuda.synchronize()\n",
        "              profile_data.cuda_time = self.start_event.elapsed_time(self.end_event)\n",
        "\n",
        "        # Record memory stats\n",
        "        if isinstance(result, torch.Tensor) and result.is_cuda:\n",
        "            profile_data.memory_consumed = result.element_size() * result.nelement()\n",
        "\n",
        "        # Logging by export for Chrome://tracing\n",
        "        prof.export_chrome_trace(\"trace.json\")\n",
        "        #prof.export_memory_timeline(\"memory_timeline.html\")\n",
        "\n",
        "        # Logging to file\n",
        "        sort_by_keyword = \"self_\" + self.device + \"_memory_usage\"\n",
        "        with open(\"profile.log\", 'a') as f:\n",
        "            f.write(f\"Node: {node.name} memory usage: {profile_data.memory_consumed}\\n\")\n",
        "            f.write(prof.key_averages(group_by_input_shape=False).table(sort_by=sort_by_keyword, row_limit=5))\n",
        "\n",
        "        # WandB logging\n",
        "        wandb.log({\"first_fwd_access\": profile_data.first_fwd_access,\n",
        "            \"last_fwd_access\": profile_data.last_fwd_access,\n",
        "            \"first_bwd_access\": profile_data.first_bwd_access,\n",
        "            \"last_bwd_access\": profile_data.last_bwd_access,\n",
        "            \"cuda_time\": profile_data.cuda_time,\n",
        "            \"memory_consumed\": profile_data.memory_consumed,\n",
        "            \"swap_in_time\": profile_data.swap_in_time,\n",
        "            \"swap_out_time\": profile_data.swap_out_time,\n",
        "            #\"memory_breakdown\": wandb.Table(\n",
        "            #columns=[\"node_name\", \"memory_allocated\"],\n",
        "            #data=[[node.name, result.element_size() * result.nelement()]])\n",
        "            })\n",
        "\n",
        "        return result\n",
        "\n",
        "    def run(self, *args, **kwargs):\n",
        "      self.is_backward = False\n",
        "\n",
        "      # profiling\n",
        "      with torch.no_grad():\n",
        "        self.start()\n",
        "        result = self.module(*args, **kwargs)\n",
        "        self.stop()\n",
        "\n",
        "      self.current_step += 1\n",
        "\n",
        "      return result\n",
        "\n",
        "    def run_graph_with_checkpointing(self, *args, **kwargs):\n",
        "      \"\"\"Run the graph with activation checkpointing enabled\"\"\"\n",
        "      self.is_backward = False\n",
        "\n",
        "      # Warmup run\n",
        "      with torch.no_grad():\n",
        "        # self.run(*args)\n",
        "        _ = self.module(*args, **kwargs)\n",
        "\n",
        "      # Actual profiling run\n",
        "      torch.cuda.synchronize()\n",
        "      torch.cuda.empty_cache()\n",
        "\n",
        "      # call checkpoint\n",
        "      def run_checkpoint(*args, **kwargs):\n",
        "        self.current_step += 1\n",
        "        return checkpoint(self.module, *args, **kwargs)\n",
        "\n",
        "      # profiling\n",
        "      self.start()\n",
        "      result = run_checkpoint(*args, **kwargs)\n",
        "      self.stop()\n",
        "\n",
        "      return result"
      ]
    },
    {
      "cell_type": "code",
      "source": [
        "config = dict(\n",
        "    input_shape = (3, 224, 224),\n",
        "    batch_sizes = [1, 2, 4, 8, 16, 32, 64, 128]\n",
        ")"
      ],
      "metadata": {
        "id": "Kd9A6AmO7xdl"
      },
      "execution_count": 42,
      "outputs": []
    },
    {
      "cell_type": "code",
      "execution_count": 43,
      "metadata": {
        "id": "hUtHhsZREfZs"
      },
      "outputs": [],
      "source": [
        "# ---------------------------------------------\n",
        "# mu-Two Profiler: Memory Analyzer + Plotter\n",
        "# ---------------------------------------------\n",
        "class MemoryAnalyzer:\n",
        "  \"\"\"\n",
        "  Analyzes and visualizes memory consumption and latency patterns\n",
        "  for PyTorch models with varying batch sizes.\n",
        "  \"\"\"\n",
        "  def __init__(self, model: nn.Module, batch_sizes: List[int] = None, input_shape: tuple = (3, 224, 224)):\n",
        "      self.model = model\n",
        "      self.batch_sizes = config.get('batch_sizes', batch_sizes)\n",
        "      self.input_shape = config.get('input_shape', input_shape)\n",
        "      self.results: List[Tuple[int, float, float]] = []  # (batch_size, memory, latency)\n",
        "\n",
        "  def profile_model(self, batch_size: int, use_checkpointing: bool = False, input_shape: tuple = None):\n",
        "    try:\n",
        "      input_shape = input_shape or (batch_size, *self.input_shape)\n",
        "      sample_input = torch.randn(input_shape, device='cuda')\n",
        "      fx_model = torch.compile(self.model, backend=\"inductor\")\n",
        "\n",
        "      # Initialize profiler\n",
        "      profiler = MemoryProfiler(fx_model, batch_size, input_shape)\n",
        "\n",
        "      # Measure peak memory and latency\n",
        "      torch.cuda.reset_peak_memory_stats()\n",
        "      start_time = time.time()\n",
        "\n",
        "      # Profile with or without checkpointing\n",
        "      if use_checkpointing:\n",
        "          output = profiler.run_graph_with_checkpointing(sample_input)\n",
        "      else:\n",
        "          output = profiler.run(sample_input)\n",
        "\n",
        "      latency = time.time() - start_time\n",
        "      peak_memory = torch.cuda.max_memory_allocated()\n",
        "\n",
        "      return peak_memory, latency\n",
        "\n",
        "    except RuntimeError as e:\n",
        "      print(f\"Error during profiling: {e}\")\n",
        "      return 0, 0\n",
        "\n",
        "  def run_analysis(self):\n",
        "    # initiate WandB logging\n",
        "    with wandb.init(project=\"mu-Two\", config=globals().get('config', {})):\n",
        "      config = wandb.config\n",
        "      wandb.watch(self.model, log=\"all\")\n",
        "\n",
        "      # main loop to iterate through batch sizes\n",
        "      for batch_size in self.batch_sizes:\n",
        "        # Empty cache before each run\n",
        "        torch.cuda.empty_cache()\n",
        "\n",
        "        # Without checkpointing\n",
        "        mem_no_cp, lat_no_cp = self.profile_model(batch_size, False)\n",
        "\n",
        "        # With checkpointing\n",
        "        mem_with_cp, lat_with_cp = self.profile_model(batch_size, True)\n",
        "\n",
        "        # Log results for wandb\n",
        "        wandb.log({\"batch_size\": batch_size,\n",
        "              \"mem_no_cp\": mem_no_cp,\n",
        "              \"mem_with_cp\": mem_with_cp,\n",
        "              \"lat_no_cp\": lat_no_cp,\n",
        "              \"lat_with_cp\": lat_with_cp})\n",
        "\n",
        "        # log results for matplotlib\n",
        "        self.results.append((batch_size, mem_no_cp, mem_with_cp,\n",
        "                    lat_no_cp, lat_with_cp))\n",
        "\n",
        "        # save topo-graph in W&B\n",
        "        #torch.onnx.export(self.model, torch.randn(1, 3, 224, 224).cuda(), \"resnet152.onnx\")\n",
        "        #wandb.save(\"resnet152.onnx\")\n",
        "\n",
        "  # plot epoch level results\n",
        "  def plot_results(self, save_path: str = None):\n",
        "\n",
        "    batch_sizes = [r[0] for r in self.results]\n",
        "    mem_no_cp = [r[1] / 1e6 for r in self.results]  # Convert to MB\n",
        "    mem_with_cp = [r[2] / 1e6 for r in self.results]\n",
        "    lat_no_cp = [r[3] * 1000 for r in self.results]  # Convert to ms\n",
        "    lat_with_cp = [r[4] * 1000 for r in self.results]\n",
        "\n",
        "    # Memory consumption plot\n",
        "    plt.figure(figsize=(10, 5))\n",
        "    plt.subplot(1, 2, 1)\n",
        "    plt.bar(np.arange(len(batch_sizes)) - 0.2, mem_no_cp, 0.4,\n",
        "            label='Without Checkpointing')\n",
        "    plt.bar(np.arange(len(batch_sizes)) + 0.2, mem_with_cp, 0.4,\n",
        "            label='With Checkpointing')\n",
        "    plt.xlabel('Batch Size')\n",
        "    plt.ylabel('Peak Memory (MB)')\n",
        "    plt.xticks(range(len(batch_sizes)), batch_sizes)\n",
        "    plt.legend()\n",
        "    plt.title('Peak Memory Consumption vs Batch Size')\n",
        "\n",
        "    # Latency plot\n",
        "    plt.subplot(1, 2, 2)\n",
        "    plt.plot(batch_sizes, lat_no_cp, 'b-o', label='Without Checkpointing')\n",
        "    plt.plot(batch_sizes, lat_with_cp, 'r-o', label='With Checkpointing')\n",
        "    plt.xlabel('Batch Size')\n",
        "    plt.ylabel('Iteration Latency (ms)')\n",
        "    plt.legend()\n",
        "    plt.title('Iteration Latency vs Batch Size')\n",
        "\n",
        "    plt.tight_layout()\n",
        "\n",
        "    if save_path:\n",
        "      plt.savefig(save_path)\n",
        "\n",
        "    plt.show()"
      ]
    },
    {
      "cell_type": "code",
      "execution_count": 44,
      "metadata": {
        "colab": {
          "base_uri": "https://localhost:8080/",
          "height": 1000
        },
        "id": "gMkeE3S6Dwlj",
        "outputId": "19dc56e3-582d-425e-8960-738e0d08e6e3"
      },
      "outputs": [
        {
          "output_type": "display_data",
          "data": {
            "text/plain": [
              "<IPython.core.display.HTML object>"
            ],
            "text/html": [
              "Tracking run with wandb version 0.19.6"
            ]
          },
          "metadata": {}
        },
        {
          "output_type": "display_data",
          "data": {
            "text/plain": [
              "<IPython.core.display.HTML object>"
            ],
            "text/html": [
              "Run data is saved locally in <code>/content/wandb/run-20250218_143552-vd3o7qxi</code>"
            ]
          },
          "metadata": {}
        },
        {
          "output_type": "display_data",
          "data": {
            "text/plain": [
              "<IPython.core.display.HTML object>"
            ],
            "text/html": [
              "Syncing run <strong><a href='https://wandb.ai/rogerwzeng-harvard-university/mu-Two/runs/vd3o7qxi' target=\"_blank\">snowy-bush-49</a></strong> to <a href='https://wandb.ai/rogerwzeng-harvard-university/mu-Two' target=\"_blank\">Weights & Biases</a> (<a href='https://wandb.me/developer-guide' target=\"_blank\">docs</a>)<br>"
            ]
          },
          "metadata": {}
        },
        {
          "output_type": "display_data",
          "data": {
            "text/plain": [
              "<IPython.core.display.HTML object>"
            ],
            "text/html": [
              " View project at <a href='https://wandb.ai/rogerwzeng-harvard-university/mu-Two' target=\"_blank\">https://wandb.ai/rogerwzeng-harvard-university/mu-Two</a>"
            ]
          },
          "metadata": {}
        },
        {
          "output_type": "display_data",
          "data": {
            "text/plain": [
              "<IPython.core.display.HTML object>"
            ],
            "text/html": [
              " View run at <a href='https://wandb.ai/rogerwzeng-harvard-university/mu-Two/runs/vd3o7qxi' target=\"_blank\">https://wandb.ai/rogerwzeng-harvard-university/mu-Two/runs/vd3o7qxi</a>"
            ]
          },
          "metadata": {}
        },
        {
          "output_type": "stream",
          "name": "stderr",
          "text": [
            "/usr/local/lib/python3.11/dist-packages/torch/_dynamo/eval_frame.py:632: UserWarning: torch.utils.checkpoint: the use_reentrant parameter should be passed explicitly. In version 2.5 we will raise an exception if use_reentrant is not passed. use_reentrant=False is recommended, but if you need to preserve the current default behavior, you can pass use_reentrant=True. Refer to docs for more details on the differences between the two variants.\n",
            "  return fn(*args, **kwargs)\n",
            "/usr/local/lib/python3.11/dist-packages/torch/utils/checkpoint.py:87: UserWarning: None of the inputs have requires_grad=True. Gradients will be None\n",
            "  warnings.warn(\n"
          ]
        },
        {
          "output_type": "display_data",
          "data": {
            "text/plain": [
              "<IPython.core.display.HTML object>"
            ],
            "text/html": []
          },
          "metadata": {}
        },
        {
          "output_type": "display_data",
          "data": {
            "text/plain": [
              "<IPython.core.display.HTML object>"
            ],
            "text/html": [
              "<br>    <style><br>        .wandb-row {<br>            display: flex;<br>            flex-direction: row;<br>            flex-wrap: wrap;<br>            justify-content: flex-start;<br>            width: 100%;<br>        }<br>        .wandb-col {<br>            display: flex;<br>            flex-direction: column;<br>            flex-basis: 100%;<br>            flex: 1;<br>            padding: 10px;<br>        }<br>    </style><br><div class=\"wandb-row\"><div class=\"wandb-col\"><h3>Run history:</h3><br/><table class=\"wandb\"><tr><td>batch_size</td><td>▁▁▁▁▂▃▄█</td></tr><tr><td>lat_no_cp</td><td>▁▁▁▁▂▂▄█</td></tr><tr><td>lat_with_cp</td><td>▁▁▁▁▂▂▄█</td></tr><tr><td>mem_no_cp</td><td>▁▁▁▁▂▃▄█</td></tr><tr><td>mem_with_cp</td><td>▁▁▁▁▂▃▄█</td></tr></table><br/></div><div class=\"wandb-col\"><h3>Run summary:</h3><br/><table class=\"wandb\"><tr><td>batch_size</td><td>128</td></tr><tr><td>lat_no_cp</td><td>0.92909</td></tr><tr><td>lat_with_cp</td><td>1.85606</td></tr><tr><td>mem_no_cp</td><td>3815201792</td></tr><tr><td>mem_with_cp</td><td>3815713792</td></tr></table><br/></div></div>"
            ]
          },
          "metadata": {}
        },
        {
          "output_type": "display_data",
          "data": {
            "text/plain": [
              "<IPython.core.display.HTML object>"
            ],
            "text/html": [
              " View run <strong style=\"color:#cdcd00\">snowy-bush-49</strong> at: <a href='https://wandb.ai/rogerwzeng-harvard-university/mu-Two/runs/vd3o7qxi' target=\"_blank\">https://wandb.ai/rogerwzeng-harvard-university/mu-Two/runs/vd3o7qxi</a><br> View project at: <a href='https://wandb.ai/rogerwzeng-harvard-university/mu-Two' target=\"_blank\">https://wandb.ai/rogerwzeng-harvard-university/mu-Two</a><br>Synced 5 W&B file(s), 0 media file(s), 0 artifact file(s) and 0 other file(s)"
            ]
          },
          "metadata": {}
        },
        {
          "output_type": "display_data",
          "data": {
            "text/plain": [
              "<IPython.core.display.HTML object>"
            ],
            "text/html": [
              "Find logs at: <code>./wandb/run-20250218_143552-vd3o7qxi/logs</code>"
            ]
          },
          "metadata": {}
        },
        {
          "output_type": "display_data",
          "data": {
            "text/plain": [
              "<Figure size 1000x500 with 2 Axes>"
            ],
            "image/png": "[encoded data removed]"
          },
          "metadata": {}
        },
        {
          "output_type": "display_data",
          "data": {
            "text/plain": [
              "<IPython.core.display.HTML object>"
            ],
            "text/html": [
              "Tracking run with wandb version 0.19.6"
            ]
          },
          "metadata": {}
        },
        {
          "output_type": "display_data",
          "data": {
            "text/plain": [
              "<IPython.core.display.HTML object>"
            ],
            "text/html": [
              "Run data is saved locally in <code>/content/wandb/run-20250218_143604-zn3pbhmo</code>"
            ]
          },
          "metadata": {}
        },
        {
          "output_type": "display_data",
          "data": {
            "text/plain": [
              "<IPython.core.display.HTML object>"
            ],
            "text/html": [
              "Syncing run <strong><a href='https://wandb.ai/rogerwzeng-harvard-university/mu-Two/runs/zn3pbhmo' target=\"_blank\">flowing-snowball-50</a></strong> to <a href='https://wandb.ai/rogerwzeng-harvard-university/mu-Two' target=\"_blank\">Weights & Biases</a> (<a href='https://wandb.me/developer-guide' target=\"_blank\">docs</a>)<br>"
            ]
          },
          "metadata": {}
        },
        {
          "output_type": "display_data",
          "data": {
            "text/plain": [
              "<IPython.core.display.HTML object>"
            ],
            "text/html": [
              " View project at <a href='https://wandb.ai/rogerwzeng-harvard-university/mu-Two' target=\"_blank\">https://wandb.ai/rogerwzeng-harvard-university/mu-Two</a>"
            ]
          },
          "metadata": {}
        },
        {
          "output_type": "display_data",
          "data": {
            "text/plain": [
              "<IPython.core.display.HTML object>"
            ],
            "text/html": [
              " View run at <a href='https://wandb.ai/rogerwzeng-harvard-university/mu-Two/runs/zn3pbhmo' target=\"_blank\">https://wandb.ai/rogerwzeng-harvard-university/mu-Two/runs/zn3pbhmo</a>"
            ]
          },
          "metadata": {}
        },
        {
          "output_type": "stream",
          "name": "stderr",
          "text": [
            "Traceback (most recent call last):\n",
            "  File \"<ipython-input-43-839715c30a2c>\", line 55, in run_analysis\n",
            "    mem_no_cp, lat_no_cp = self.profile_model(batch_size, False)\n",
            "                           ^^^^^^^^^^^^^^^^^^^^^^^^^^^^^^^^^^^^^\n",
            "  File \"<ipython-input-43-839715c30a2c>\", line 32, in profile_model\n",
            "    output = profiler.run(sample_input)\n",
            "             ^^^^^^^^^^^^^^^^^^^^^^^^^^\n",
            "  File \"<ipython-input-41-bfe952062fc9>\", line 119, in run\n",
            "    result = self.module(*args, **kwargs)\n",
            "            ^^^^^^^^^^^^^^^^^^^^^^^^^^^^\n",
            "  File \"/usr/local/lib/python3.11/dist-packages/torch/_dynamo/eval_frame.py\", line 465, in _fn\n",
            "    return fn(*args, **kwargs)\n",
            "           ^^^^^^^^^^^^^^^^^^^\n",
            "  File \"/usr/local/lib/python3.11/dist-packages/transformers/models/bert/modeling_bert.py\", line 1064, in forward\n",
            "    batch_size, seq_length = input_shape\n",
            "    ^^^^^^^^^^^^^^^^^^^^^^\n",
            "ValueError: too many values to unpack (expected 2)\n"
          ]
        },
        {
          "output_type": "display_data",
          "data": {
            "text/plain": [
              "<IPython.core.display.HTML object>"
            ],
            "text/html": []
          },
          "metadata": {}
        },
        {
          "output_type": "display_data",
          "data": {
            "text/plain": [
              "<IPython.core.display.HTML object>"
            ],
            "text/html": [
              " View run <strong style=\"color:#cdcd00\">flowing-snowball-50</strong> at: <a href='https://wandb.ai/rogerwzeng-harvard-university/mu-Two/runs/zn3pbhmo' target=\"_blank\">https://wandb.ai/rogerwzeng-harvard-university/mu-Two/runs/zn3pbhmo</a><br> View project at: <a href='https://wandb.ai/rogerwzeng-harvard-university/mu-Two' target=\"_blank\">https://wandb.ai/rogerwzeng-harvard-university/mu-Two</a><br>Synced 5 W&B file(s), 0 media file(s), 0 artifact file(s) and 0 other file(s)"
            ]
          },
          "metadata": {}
        },
        {
          "output_type": "display_data",
          "data": {
            "text/plain": [
              "<IPython.core.display.HTML object>"
            ],
            "text/html": [
              "Find logs at: <code>./wandb/run-20250218_143604-zn3pbhmo/logs</code>"
            ]
          },
          "metadata": {}
        },
        {
          "output_type": "error",
          "ename": "ValueError",
          "evalue": "too many values to unpack (expected 2)",
          "traceback": [
            "\u001b[0;31m---------------------------------------------------------------------------\u001b[0m",
            "\u001b[0;31mValueError\u001b[0m                                Traceback (most recent call last)",
            "\u001b[0;32m<ipython-input-44-ab0d64cd4fd1>\u001b[0m in \u001b[0;36m<cell line: 0>\u001b[0;34m()\u001b[0m\n\u001b[1;32m     22\u001b[0m \u001b[0;34m\u001b[0m\u001b[0m\n\u001b[1;32m     23\u001b[0m   \u001b[0mprofile_resnet\u001b[0m\u001b[0;34m(\u001b[0m\u001b[0;34m)\u001b[0m\u001b[0;34m\u001b[0m\u001b[0;34m\u001b[0m\u001b[0m\n\u001b[0;32m---> 24\u001b[0;31m   \u001b[0mprofile_bert\u001b[0m\u001b[0;34m(\u001b[0m\u001b[0;34m)\u001b[0m\u001b[0;34m\u001b[0m\u001b[0;34m\u001b[0m\u001b[0m\n\u001b[0m",
            "\u001b[0;32m<ipython-input-44-ab0d64cd4fd1>\u001b[0m in \u001b[0;36mprofile_bert\u001b[0;34m()\u001b[0m\n\u001b[1;32m     13\u001b[0m     \u001b[0manalyzer\u001b[0m \u001b[0;34m=\u001b[0m \u001b[0mMemoryAnalyzer\u001b[0m\u001b[0;34m(\u001b[0m\u001b[0mmodel\u001b[0m\u001b[0;34m)\u001b[0m\u001b[0;34m\u001b[0m\u001b[0;34m\u001b[0m\u001b[0m\n\u001b[1;32m     14\u001b[0m     \u001b[0mbert_input_shape\u001b[0m \u001b[0;34m=\u001b[0m \u001b[0;34m(\u001b[0m\u001b[0;36m128\u001b[0m\u001b[0;34m,\u001b[0m\u001b[0;34m)\u001b[0m\u001b[0;34m\u001b[0m\u001b[0;34m\u001b[0m\u001b[0m\n\u001b[0;32m---> 15\u001b[0;31m     \u001b[0manalyzer\u001b[0m\u001b[0;34m.\u001b[0m\u001b[0mrun_analysis\u001b[0m\u001b[0;34m(\u001b[0m\u001b[0;34m)\u001b[0m\u001b[0;34m\u001b[0m\u001b[0;34m\u001b[0m\u001b[0m\n\u001b[0m\u001b[1;32m     16\u001b[0m     \u001b[0manalyzer\u001b[0m\u001b[0;34m.\u001b[0m\u001b[0mplot_results\u001b[0m\u001b[0;34m(\u001b[0m\u001b[0;34m)\u001b[0m\u001b[0;34m\u001b[0m\u001b[0;34m\u001b[0m\u001b[0m\n\u001b[1;32m     17\u001b[0m \u001b[0;34m\u001b[0m\u001b[0m\n",
            "\u001b[0;32m<ipython-input-43-839715c30a2c>\u001b[0m in \u001b[0;36mrun_analysis\u001b[0;34m(self)\u001b[0m\n\u001b[1;32m     53\u001b[0m \u001b[0;34m\u001b[0m\u001b[0m\n\u001b[1;32m     54\u001b[0m         \u001b[0;31m# Without checkpointing\u001b[0m\u001b[0;34m\u001b[0m\u001b[0;34m\u001b[0m\u001b[0m\n\u001b[0;32m---> 55\u001b[0;31m         \u001b[0mmem_no_cp\u001b[0m\u001b[0;34m,\u001b[0m \u001b[0mlat_no_cp\u001b[0m \u001b[0;34m=\u001b[0m \u001b[0mself\u001b[0m\u001b[0;34m.\u001b[0m\u001b[0mprofile_model\u001b[0m\u001b[0;34m(\u001b[0m\u001b[0mbatch_size\u001b[0m\u001b[0;34m,\u001b[0m \u001b[0;32mFalse\u001b[0m\u001b[0;34m)\u001b[0m\u001b[0;34m\u001b[0m\u001b[0;34m\u001b[0m\u001b[0m\n\u001b[0m\u001b[1;32m     56\u001b[0m \u001b[0;34m\u001b[0m\u001b[0m\n\u001b[1;32m     57\u001b[0m         \u001b[0;31m# With checkpointing\u001b[0m\u001b[0;34m\u001b[0m\u001b[0;34m\u001b[0m\u001b[0m\n",
            "\u001b[0;32m<ipython-input-43-839715c30a2c>\u001b[0m in \u001b[0;36mprofile_model\u001b[0;34m(self, batch_size, use_checkpointing, input_shape)\u001b[0m\n\u001b[1;32m     30\u001b[0m           \u001b[0moutput\u001b[0m \u001b[0;34m=\u001b[0m \u001b[0mprofiler\u001b[0m\u001b[0;34m.\u001b[0m\u001b[0mrun_graph_with_checkpointing\u001b[0m\u001b[0;34m(\u001b[0m\u001b[0msample_input\u001b[0m\u001b[0;34m)\u001b[0m\u001b[0;34m\u001b[0m\u001b[0;34m\u001b[0m\u001b[0m\n\u001b[1;32m     31\u001b[0m       \u001b[0;32melse\u001b[0m\u001b[0;34m:\u001b[0m\u001b[0;34m\u001b[0m\u001b[0;34m\u001b[0m\u001b[0m\n\u001b[0;32m---> 32\u001b[0;31m           \u001b[0moutput\u001b[0m \u001b[0;34m=\u001b[0m \u001b[0mprofiler\u001b[0m\u001b[0;34m.\u001b[0m\u001b[0mrun\u001b[0m\u001b[0;34m(\u001b[0m\u001b[0msample_input\u001b[0m\u001b[0;34m)\u001b[0m\u001b[0;34m\u001b[0m\u001b[0;34m\u001b[0m\u001b[0m\n\u001b[0m\u001b[1;32m     33\u001b[0m \u001b[0;34m\u001b[0m\u001b[0m\n\u001b[1;32m     34\u001b[0m       \u001b[0mlatency\u001b[0m \u001b[0;34m=\u001b[0m \u001b[0mtime\u001b[0m\u001b[0;34m.\u001b[0m\u001b[0mtime\u001b[0m\u001b[0;34m(\u001b[0m\u001b[0;34m)\u001b[0m \u001b[0;34m-\u001b[0m \u001b[0mstart_time\u001b[0m\u001b[0;34m\u001b[0m\u001b[0;34m\u001b[0m\u001b[0m\n",
            "\u001b[0;32m<ipython-input-41-bfe952062fc9>\u001b[0m in \u001b[0;36mrun\u001b[0;34m(self, *args, **kwargs)\u001b[0m\n\u001b[1;32m    117\u001b[0m       \u001b[0;32mwith\u001b[0m \u001b[0mtorch\u001b[0m\u001b[0;34m.\u001b[0m\u001b[0mno_grad\u001b[0m\u001b[0;34m(\u001b[0m\u001b[0;34m)\u001b[0m\u001b[0;34m:\u001b[0m\u001b[0;34m\u001b[0m\u001b[0;34m\u001b[0m\u001b[0m\n\u001b[1;32m    118\u001b[0m         \u001b[0mself\u001b[0m\u001b[0;34m.\u001b[0m\u001b[0mstart\u001b[0m\u001b[0;34m(\u001b[0m\u001b[0;34m)\u001b[0m\u001b[0;34m\u001b[0m\u001b[0;34m\u001b[0m\u001b[0m\n\u001b[0;32m--> 119\u001b[0;31m         \u001b[0mresult\u001b[0m \u001b[0;34m=\u001b[0m \u001b[0mself\u001b[0m\u001b[0;34m.\u001b[0m\u001b[0mmodule\u001b[0m\u001b[0;34m(\u001b[0m\u001b[0;34m*\u001b[0m\u001b[0margs\u001b[0m\u001b[0;34m,\u001b[0m \u001b[0;34m**\u001b[0m\u001b[0mkwargs\u001b[0m\u001b[0;34m)\u001b[0m\u001b[0;34m\u001b[0m\u001b[0;34m\u001b[0m\u001b[0m\n\u001b[0m\u001b[1;32m    120\u001b[0m         \u001b[0mself\u001b[0m\u001b[0;34m.\u001b[0m\u001b[0mstop\u001b[0m\u001b[0;34m(\u001b[0m\u001b[0;34m)\u001b[0m\u001b[0;34m\u001b[0m\u001b[0;34m\u001b[0m\u001b[0m\n\u001b[1;32m    121\u001b[0m \u001b[0;34m\u001b[0m\u001b[0m\n",
            "\u001b[0;32m/usr/local/lib/python3.11/dist-packages/torch/_dynamo/eval_frame.py\u001b[0m in \u001b[0;36m_fn\u001b[0;34m(*args, **kwargs)\u001b[0m\n\u001b[1;32m    463\u001b[0m \u001b[0;34m\u001b[0m\u001b[0m\n\u001b[1;32m    464\u001b[0m             \u001b[0;32mtry\u001b[0m\u001b[0;34m:\u001b[0m\u001b[0;34m\u001b[0m\u001b[0;34m\u001b[0m\u001b[0m\n\u001b[0;32m--> 465\u001b[0;31m                 \u001b[0;32mreturn\u001b[0m \u001b[0mfn\u001b[0m\u001b[0;34m(\u001b[0m\u001b[0;34m*\u001b[0m\u001b[0margs\u001b[0m\u001b[0;34m,\u001b[0m \u001b[0;34m**\u001b[0m\u001b[0mkwargs\u001b[0m\u001b[0;34m)\u001b[0m\u001b[0;34m\u001b[0m\u001b[0;34m\u001b[0m\u001b[0m\n\u001b[0m\u001b[1;32m    466\u001b[0m             \u001b[0;32mfinally\u001b[0m\u001b[0;34m:\u001b[0m\u001b[0;34m\u001b[0m\u001b[0;34m\u001b[0m\u001b[0m\n\u001b[1;32m    467\u001b[0m                 \u001b[0;31m# Restore the dynamic layer stack depth if necessary.\u001b[0m\u001b[0;34m\u001b[0m\u001b[0;34m\u001b[0m\u001b[0m\n",
            "\u001b[0;32m/usr/local/lib/python3.11/dist-packages/transformers/models/bert/modeling_bert.py\u001b[0m in \u001b[0;36mforward\u001b[0;34m(self, input_ids, attention_mask, token_type_ids, position_ids, head_mask, inputs_embeds, encoder_hidden_states, encoder_attention_mask, past_key_values, use_cache, output_attentions, output_hidden_states, return_dict)\u001b[0m\n\u001b[1;32m   1062\u001b[0m             \u001b[0;32mraise\u001b[0m \u001b[0mValueError\u001b[0m\u001b[0;34m(\u001b[0m\u001b[0;34m\"You have to specify either input_ids or inputs_embeds\"\u001b[0m\u001b[0;34m)\u001b[0m\u001b[0;34m\u001b[0m\u001b[0;34m\u001b[0m\u001b[0m\n\u001b[1;32m   1063\u001b[0m \u001b[0;34m\u001b[0m\u001b[0m\n\u001b[0;32m-> 1064\u001b[0;31m         \u001b[0mbatch_size\u001b[0m\u001b[0;34m,\u001b[0m \u001b[0mseq_length\u001b[0m \u001b[0;34m=\u001b[0m \u001b[0minput_shape\u001b[0m\u001b[0;34m\u001b[0m\u001b[0;34m\u001b[0m\u001b[0m\n\u001b[0m\u001b[1;32m   1065\u001b[0m         \u001b[0mdevice\u001b[0m \u001b[0;34m=\u001b[0m \u001b[0minput_ids\u001b[0m\u001b[0;34m.\u001b[0m\u001b[0mdevice\u001b[0m \u001b[0;32mif\u001b[0m \u001b[0minput_ids\u001b[0m \u001b[0;32mis\u001b[0m \u001b[0;32mnot\u001b[0m \u001b[0;32mNone\u001b[0m \u001b[0;32melse\u001b[0m \u001b[0minputs_embeds\u001b[0m\u001b[0;34m.\u001b[0m\u001b[0mdevice\u001b[0m\u001b[0;34m\u001b[0m\u001b[0;34m\u001b[0m\u001b[0m\n\u001b[1;32m   1066\u001b[0m \u001b[0;34m\u001b[0m\u001b[0m\n",
            "\u001b[0;31mValueError\u001b[0m: too many values to unpack (expected 2)"
          ]
        }
      ],
      "source": [
        "# -------------------------------------------------------\n",
        "# Main function\n",
        "# -------------------------------------------------------\n",
        "\n",
        "def profile_resnet():\n",
        "    model = models.resnet152(weights=models.ResNet152_Weights.IMAGENET1K_V1).cuda()\n",
        "    analyzer = MemoryAnalyzer(model)\n",
        "    analyzer.run_analysis()\n",
        "    analyzer.plot_results()\n",
        "\n",
        "def profile_bert():\n",
        "    model = BertModel.from_pretrained('bert-base-uncased').cuda()\n",
        "    analyzer = MemoryAnalyzer(model)\n",
        "    bert_input_shape = (128,)\n",
        "    analyzer.run_analysis()\n",
        "    analyzer.plot_results()\n",
        "\n",
        "if __name__ == \"__main__\":\n",
        "  # Require GPU\n",
        "  if not torch.cuda.is_available():\n",
        "    raise RuntimeError(\"CUDA device required for profiling\")\n",
        "\n",
        "  profile_resnet()\n",
        "  profile_bert()"
      ]
    }
  ]
}