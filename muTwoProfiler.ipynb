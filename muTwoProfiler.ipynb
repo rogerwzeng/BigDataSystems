{
  "nbformat": 4,
  "nbformat_minor": 0,
  "metadata": {
    "colab": {
      "provenance": [],
      "gpuType": "T4",
      "authorship_tag": "ABX9TyPQ4I4atB/9pH649RpFjwc+",
      "include_colab_link": true
    },
    "kernelspec": {
      "name": "python3",
      "display_name": "Python 3"
    },
    "language_info": {
      "name": "python"
    },
    "accelerator": "GPU"
  },
  "cells": [
    {
      "cell_type": "markdown",
      "metadata": {
        "id": "view-in-github",
        "colab_type": "text"
      },
      "source": [
        "<a href=\"https://colab.research.google.com/github/rogerwzeng/BigDataSystems/blob/main/muTwoProfiler.ipynb\" target=\"_parent\"><img src=\"https://colab.research.google.com/assets/colab-badge.svg\" alt=\"Open In Colab\"/></a>"
      ]
    },
    {
      "cell_type": "markdown",
      "source": [
        "## CS265 Systems Project - Activation Checkpointing\n",
        "### Implementing the $\\mu$-Two Compiler\n",
        "### Spring 2025, Harvard University"
      ],
      "metadata": {
        "id": "JLe8UELsJ8IH"
      }
    },
    {
      "cell_type": "code",
      "source": [
        "!pip install wandb onnx datasets -Uq"
      ],
      "metadata": {
        "id": "ixvP2aJgzyfY"
      },
      "execution_count": 7,
      "outputs": []
    },
    {
      "cell_type": "code",
      "source": [
        "import os\n",
        "os.environ['PATH'] += ':/usr/local/cuda-11.0/bin'"
      ],
      "metadata": {
        "id": "QUqVQAVEsUv4"
      },
      "execution_count": 20,
      "outputs": []
    },
    {
      "cell_type": "code",
      "source": [
        "from google.colab import drive\n",
        "# drive.mount('/content/drive', force_remount=True)"
      ],
      "metadata": {
        "id": "dV7FFMfbHJms"
      },
      "execution_count": 8,
      "outputs": []
    },
    {
      "cell_type": "code",
      "source": [
        "# -----------\n",
        "# mu-Two Profiler\n",
        "# -----------\n",
        "import operator\n",
        "import time\n",
        "import pdb\n",
        "import numpy as np\n",
        "from typing import Any, Dict, List\n",
        "from dataclasses import dataclass\n",
        "import torch\n",
        "from torch import nn as nn\n",
        "from torch import fx as fx\n",
        "from torch.cuda import Event\n",
        "from torch.fx import symbolic_trace, Interpreter, Node, GraphModule\n",
        "from torch.autograd import grad\n",
        "from torch.profiler import profile, record_function, ProfilerActivity, DeviceType\n",
        "from torch.utils.data import DataLoader\n",
        "from torch.utils.checkpoint import checkpoint\n",
        "from torchvision import datasets\n",
        "import torchvision.models as models\n",
        "from torchvision.transforms import ToTensor, Lambda, Compose\n",
        "from transformers import BertModel\n",
        "import matplotlib.pyplot as plt\n"
      ],
      "metadata": {
        "id": "lDBMQNXnEaGT"
      },
      "execution_count": 9,
      "outputs": []
    },
    {
      "cell_type": "code",
      "execution_count": 10,
      "metadata": {
        "id": "DxxKsxXP647S",
        "colab": {
          "base_uri": "https://localhost:8080/"
        },
        "outputId": "190d34ac-b9b5-435d-e445-0a1473918f53"
      },
      "outputs": [
        {
          "output_type": "stream",
          "name": "stderr",
          "text": [
            "\u001b[34m\u001b[1mwandb\u001b[0m: \u001b[33mWARNING\u001b[0m If you're specifying your api key in code, ensure this code is not shared publicly.\n",
            "\u001b[34m\u001b[1mwandb\u001b[0m: \u001b[33mWARNING\u001b[0m Consider setting the WANDB_API_KEY environment variable, or running `wandb login` from the command line.\n",
            "\u001b[34m\u001b[1mwandb\u001b[0m: Appending key for api.wandb.ai to your netrc file: /root/.netrc\n"
          ]
        },
        {
          "output_type": "execute_result",
          "data": {
            "text/plain": [
              "True"
            ]
          },
          "metadata": {},
          "execution_count": 10
        }
      ],
      "source": [
        "import wandb\n",
        "from google.colab import userdata\n",
        "wb_api_key = userdata.get('WANDB_API_KEY')\n",
        "wandb.login(key = wb_api_key)"
      ]
    },
    {
      "cell_type": "code",
      "execution_count": 28,
      "metadata": {
        "id": "XS1XQ4wjEtIP"
      },
      "outputs": [],
      "source": [
        "# ------------------------------------\n",
        "# mu-Two Profiler: extended torch.fx Interpreter\n",
        "# ------------------------------------\n",
        "\n",
        "@dataclass\n",
        "class NodeProfile:\n",
        "    first_fwd_access: int = -1\n",
        "    last_fwd_access: int = -1\n",
        "    first_bwd_access: int = -1\n",
        "    last_bwd_access: int = -1\n",
        "    cuda_time: float = 0.0\n",
        "    memory_consumed: int = 0\n",
        "    swap_in_time: float = 0.0\n",
        "    swap_out_time: float = 0.0\n",
        "\n",
        "class MemoryProfilerInterpreter(fx.Interpreter):\n",
        "    \"\"\"\n",
        "    Extended torch.fx Interpreter that profiles memory usage and execution time\n",
        "    of individual nodes in a PyTorch model.\n",
        "    \"\"\"\n",
        "    def __init__(self, module: torch.fx.GraphModule, batch_size: int):\n",
        "        super().__init__(module)\n",
        "        if not torch.cuda.is_available():\n",
        "          raise RuntimeError(\"CUDA device required for profiling\")\n",
        "        self.device = 'cuda'\n",
        "\n",
        "        self.batch_size = batch_size\n",
        "        self.node_profiles: Dict[str, NodeProfile] = {}\n",
        "        self.current_step = 0\n",
        "        self.is_backward = False\n",
        "\n",
        "        # Initialize CUDA events for timing\n",
        "        self.start_event = Event(enable_timing=True)\n",
        "        self.end_event = Event(enable_timing=True)\n",
        "        self.swap_in_start = Event(enable_timing=True)\n",
        "        self.swap_in_end = Event(enable_timing=True)\n",
        "        self.swap_out_start = Event(enable_timing=True)\n",
        "        self.swap_out_end = Event(enable_timing=True)\n",
        "\n",
        "        # Pinned memory buffer for efficient transfers\n",
        "        self.pinned_memory = torch.empty((batch_size, 3, 224, 224),\n",
        "                dtype=torch.float32, device='cpu', pin_memory=True)\n",
        "\n",
        "    def run_node(self, node: fx.Node) -> Any:\n",
        "        #pdb.set_trace()\n",
        "        # Record access patterns in NodeProfile\n",
        "        if node.name not in self.node_profiles:\n",
        "            self.node_profiles[node.name] = NodeProfile()\n",
        "\n",
        "        profile_data = self.node_profiles[node.name]\n",
        "\n",
        "        if not self.is_backward:\n",
        "            if profile_data.first_fwd_access == -1:\n",
        "                profile_data.first_fwd_access = self.current_step\n",
        "            profile_data.last_fwd_access = self.current_step\n",
        "        else:\n",
        "            if profile_data.first_bwd_access == -1:\n",
        "                profile_data.first_bwd_access = self.current_step\n",
        "            profile_data.last_bwd_access = self.current_step\n",
        "\n",
        "        # Profile CUDA operations\n",
        "        activities = [ProfilerActivity.CPU, ProfilerActivity.CUDA]\n",
        "        sort_by_keyword = \"self_\" + self.device + \"_memory_usage\"\n",
        "\n",
        "        with profile(activities=activities, record_shapes=False, profile_memory=True) as prof:\n",
        "          with record_function(f\"node_{node.name}\"):\n",
        "              # Measure swap-in time if needed\n",
        "              self.start_event.record()\n",
        "              result = super().run_node(node)\n",
        "              self.end_event.record()\n",
        "\n",
        "              torch.cuda.synchronize()\n",
        "              profile_data.cuda_time = self.start_event.elapsed_time(self.end_event)\n",
        "\n",
        "        prof.export_chrome_trace(\"trace.json\")\n",
        "\n",
        "        with open(\"profile.log\", 'a') as f:\n",
        "            f.write(f\"Node: {node.name}\\n\")\n",
        "            f.write(prof.key_averages(group_by_input_shape=True).table(sort_by=sort_by_keyword, row_limit=5))\n",
        "\n",
        "        # Record memory stats\n",
        "        if isinstance(result, torch.Tensor) and result.is_cuda:\n",
        "            profile_data.memory_consumed = result.element_size() * result.nelement()\n",
        "\n",
        "        # log in WandB\n",
        "        wandb.log({\"first_fwd_access\": profile_data.first_fwd_access,\n",
        "            \"last_fwd_access\": profile_data.last_fwd_access,\n",
        "            \"first_bwd_access\": profile_data.first_bwd_access,\n",
        "            \"last_bwd_access\": profile_data.last_bwd_access,\n",
        "            \"cuda_time\": profile_data.cuda_time,\n",
        "            \"memory_consumed\": profile_data.memory_consumed,\n",
        "            \"swap_in_time\": profile_data.swap_in_time,\n",
        "            \"swap_out_time\": profile_data.swap_out_time,\n",
        "            #\"memory_breakdown\": wandb.Table(\n",
        "            #columns=[\"node_name\", \"memory_allocated\"],\n",
        "            #data=[[node.name, result.element_size() * result.nelement()]])\n",
        "            })\n",
        "\n",
        "        return result\n",
        "\n",
        "    def run(self, *args, **kwargs):\n",
        "        self.is_backward = False\n",
        "        result = super().run(*args, **kwargs)\n",
        "\n",
        "        self.current_step += 1\n",
        "        return result\n",
        "\n",
        "    def run_graph_with_checkpointing(self, *args):\n",
        "        \"\"\"Run the graph with activation checkpointing enabled\"\"\"\n",
        "        self.is_backward = False\n",
        "\n",
        "        # Warmup run\n",
        "        with torch.no_grad():\n",
        "            self.run(*args)\n",
        "\n",
        "        # Actual profiling run\n",
        "        torch.cuda.synchronize()\n",
        "        torch.cuda.empty_cache()\n",
        "\n",
        "        return self.run(*args)"
      ]
    },
    {
      "cell_type": "code",
      "source": [
        "config = dict(\n",
        "    input_shape = (3, 224, 224),\n",
        "    batch_sizes = [1, 2, 4, 8, 16, 32, 64, 128]\n",
        ")"
      ],
      "metadata": {
        "id": "Kd9A6AmO7xdl"
      },
      "execution_count": 25,
      "outputs": []
    },
    {
      "cell_type": "code",
      "execution_count": 26,
      "metadata": {
        "id": "hUtHhsZREfZs"
      },
      "outputs": [],
      "source": [
        "# ---------------------------------------------\n",
        "# mu-Two Profiler: Memory Analyzer + Plotter\n",
        "# ---------------------------------------------\n",
        "class MemoryAnalyzer:\n",
        "  \"\"\"\n",
        "  Analyzes and visualizes memory consumption and latency patterns\n",
        "  for PyTorch models with varying batch sizes.\n",
        "  \"\"\"\n",
        "  def __init__(self, model: nn.Module, batch_sizes: List[int] = None, input_shape: tuple = (3, 224, 224)):\n",
        "      self.model = model\n",
        "      self.batch_sizes = [1, 2, 4, 8, 16, 32]\n",
        "      self.input_shape = input_shape\n",
        "      self.results: List[Tuple[int, float, float]] = []  # (batch_size, memory, latency)\n",
        "\n",
        "  def profile_model(self, batch_size: int, use_checkpointing: bool = False):\n",
        "    try:\n",
        "      self.model.to('cuda')\n",
        "\n",
        "      # Create sample inputs for BERT\n",
        "      if isinstance(self.model, BertModel):\n",
        "          seq_length = 128\n",
        "          input_ids = torch.randint(0, 30522, (batch_size, seq_length), device='cuda')\n",
        "          attention_mask = torch.ones_like(input_ids, device='cuda')\n",
        "          token_type_ids = torch.zeros_like(input_ids, device='cuda')\n",
        "          position_ids = torch.arange(seq_length, device='cuda').expand((batch_size, -1))\n",
        "\n",
        "          sample_input = {\n",
        "          'input_ids': input_ids,\n",
        "          'attention_mask': attention_mask,\n",
        "          'token_type_ids': token_type_ids,\n",
        "          'position_ids': position_ids,\n",
        "          'head_mask': None,\n",
        "          'inputs_embeds': None,\n",
        "          'output_attentions': None,\n",
        "          'output_hidden_states': None,\n",
        "          'return_dict': False} # Important: set to False to avoid dictionary output\n",
        "\n",
        "          #sample_input = {'input_ids': input_ids, 'attention_mask': attention_mask, 'inputs_embeds': None}\n",
        "          fx_graph = fx.Tracer().trace(self.model, concrete_args=sample_input)\n",
        "          fx_model = fx.GraphModule(self.model, fx_graph)\n",
        "          #fx_model = fx.symbolic_trace(self.model, concrete_args=sample_input)\n",
        "\n",
        "      else: # Create sample input for ResNET\n",
        "          input_shape = (batch_size, 3, 224, 224)\n",
        "          sample_input = torch.randn(input_shape, device='cuda')\n",
        "          fx_model = fx.symbolic_trace(self.model)\n",
        "\n",
        "      self.model.eval()\n",
        "\n",
        "      # Initialize profiler\n",
        "      profiler = MemoryProfilerInterpreter(fx_model, batch_size)\n",
        "\n",
        "      # Measure peak memory and latency\n",
        "      torch.cuda.reset_peak_memory_stats()\n",
        "      start_time = time.time()\n",
        "\n",
        "      # apply checkpoint() depending on model type\n",
        "      if isinstance(self.model, BertModel):\n",
        "          original_forward = fx_model.forward\n",
        "          fx_model.forward = lambda *args, **kwargs: checkpoint(\n",
        "              lambda *tensors: original_forward(**dict(zip(sample_input.keys(), tensors))),\n",
        "              *sample_input.values()\n",
        "              #, **kwargs  # Include any potential checkpoint-specific kwargs\n",
        "          )\n",
        "      else:\n",
        "          fx_model.forward = lambda *args, **kwargs: checkpoint(fx_model.forward, *args, **kwargs)\n",
        "\n",
        "      # Profile with or without checkpointing\n",
        "      if isinstance(self.model, BertModel):\n",
        "        if use_checkpointing:\n",
        "            output = fx_model.forward(**sample_input)\n",
        "        else:\n",
        "            output = self.model(**sample_input)\n",
        "      else:\n",
        "        if use_checkpointing:\n",
        "            output = profiler.run_graph_with_checkpointing(sample_input)\n",
        "        else:\n",
        "            output = profiler.run(sample_input)\n",
        "\n",
        "      latency = time.time() - start_time\n",
        "      peak_memory = torch.cuda.max_memory_allocated()\n",
        "\n",
        "      return peak_memory, latency\n",
        "\n",
        "    except RuntimeError as e:\n",
        "      print(f\"Error during profiling: {e}\")\n",
        "      return 0, 0\n",
        "\n",
        "  def run_analysis(self):\n",
        "    # initiate WandB logging\n",
        "    with wandb.init(project=\"mu-Two\", config=globals().get('config', {})):\n",
        "      config = wandb.config\n",
        "      wandb.watch(self.model, log=\"all\")\n",
        "\n",
        "      # main loop to iterate through batch sizes\n",
        "      for batch_size in self.batch_sizes:\n",
        "        # Empty cache before each run\n",
        "        # torch.cuda.empty_cache()\n",
        "        # Without checkpointing\n",
        "        mem_no_cp, lat_no_cp = self.profile_model(batch_size, False)\n",
        "\n",
        "        # With checkpointing\n",
        "        mem_with_cp, lat_with_cp = self.profile_model(batch_size, True)\n",
        "\n",
        "        # Log results for wandb\n",
        "        wandb.log({\"batch_size\": batch_size,\n",
        "              \"mem_no_cp\": mem_no_cp,\n",
        "              \"mem_with_cp\": mem_with_cp,\n",
        "              \"lat_no_cp\": lat_no_cp,\n",
        "              \"lat_with_cp\": lat_with_cp})\n",
        "\n",
        "        # log results for matplotlib\n",
        "        self.results.append((batch_size, mem_no_cp, mem_with_cp,\n",
        "                    lat_no_cp, lat_with_cp))\n",
        "\n",
        "        # save topo-graph in W&B\n",
        "        torch.onnx.export(self.model, torch.randn(1, 3, 224, 224).cuda(), \"resnet152.onnx\")\n",
        "        wandb.save(\"resnet152.onnx\")\n",
        "\n",
        "  # plot epoch level results\n",
        "  def plot_results(self, save_path: str = None):\n",
        "\n",
        "    batch_sizes = [r[0] for r in self.results]\n",
        "    mem_no_cp = [r[1] / 1e6 for r in self.results]  # Convert to MB\n",
        "    mem_with_cp = [r[2] / 1e6 for r in self.results]\n",
        "    lat_no_cp = [r[3] * 1000 for r in self.results]  # Convert to ms\n",
        "    lat_with_cp = [r[4] * 1000 for r in self.results]\n",
        "\n",
        "    # Memory consumption plot\n",
        "    plt.figure(figsize=(10, 5))\n",
        "    plt.subplot(1, 2, 1)\n",
        "    plt.bar(np.arange(len(batch_sizes)) - 0.2, mem_no_cp, 0.4,\n",
        "            label='Without Checkpointing')\n",
        "    plt.bar(np.arange(len(batch_sizes)) + 0.2, mem_with_cp, 0.4,\n",
        "            label='With Checkpointing')\n",
        "    plt.xlabel('Batch Size')\n",
        "    plt.ylabel('Peak Memory (MB)')\n",
        "    plt.xticks(range(len(batch_sizes)), batch_sizes)\n",
        "    plt.legend()\n",
        "    plt.title('Peak Memory Consumption vs Batch Size')\n",
        "\n",
        "    # Latency plot\n",
        "    plt.subplot(1, 2, 2)\n",
        "    plt.plot(batch_sizes, lat_no_cp, 'b-o', label='Without Checkpointing')\n",
        "    plt.plot(batch_sizes, lat_with_cp, 'r-o', label='With Checkpointing')\n",
        "    plt.xlabel('Batch Size')\n",
        "    plt.ylabel('Iteration Latency (ms)')\n",
        "    plt.legend()\n",
        "    plt.title('Iteration Latency vs Batch Size')\n",
        "\n",
        "    plt.tight_layout()\n",
        "\n",
        "    if save_path:\n",
        "      plt.savefig(save_path)\n",
        "\n",
        "    plt.show()"
      ]
    },
    {
      "cell_type": "code",
      "execution_count": 29,
      "metadata": {
        "colab": {
          "base_uri": "https://localhost:8080/",
          "height": 1000
        },
        "id": "gMkeE3S6Dwlj",
        "outputId": "d6f30be7-3941-40d4-f07f-6e6c70c063af"
      },
      "outputs": [
        {
          "output_type": "display_data",
          "data": {
            "text/plain": [
              "<IPython.core.display.HTML object>"
            ],
            "text/html": [
              "Tracking run with wandb version 0.19.6"
            ]
          },
          "metadata": {}
        },
        {
          "output_type": "display_data",
          "data": {
            "text/plain": [
              "<IPython.core.display.HTML object>"
            ],
            "text/html": [
              "Run data is saved locally in <code>/content/wandb/run-20250216_175150-u0zmxso4</code>"
            ]
          },
          "metadata": {}
        },
        {
          "output_type": "display_data",
          "data": {
            "text/plain": [
              "<IPython.core.display.HTML object>"
            ],
            "text/html": [
              "Syncing run <strong><a href='https://wandb.ai/rogerwzeng-harvard-university/mu-Two/runs/u0zmxso4' target=\"_blank\">floral-shadow-26</a></strong> to <a href='https://wandb.ai/rogerwzeng-harvard-university/mu-Two' target=\"_blank\">Weights & Biases</a> (<a href='https://wandb.me/developer-guide' target=\"_blank\">docs</a>)<br>"
            ]
          },
          "metadata": {}
        },
        {
          "output_type": "display_data",
          "data": {
            "text/plain": [
              "<IPython.core.display.HTML object>"
            ],
            "text/html": [
              " View project at <a href='https://wandb.ai/rogerwzeng-harvard-university/mu-Two' target=\"_blank\">https://wandb.ai/rogerwzeng-harvard-university/mu-Two</a>"
            ]
          },
          "metadata": {}
        },
        {
          "output_type": "display_data",
          "data": {
            "text/plain": [
              "<IPython.core.display.HTML object>"
            ],
            "text/html": [
              " View run at <a href='https://wandb.ai/rogerwzeng-harvard-university/mu-Two/runs/u0zmxso4' target=\"_blank\">https://wandb.ai/rogerwzeng-harvard-university/mu-Two/runs/u0zmxso4</a>"
            ]
          },
          "metadata": {}
        },
        {
          "output_type": "display_data",
          "data": {
            "text/plain": [
              "<IPython.core.display.HTML object>"
            ],
            "text/html": []
          },
          "metadata": {}
        },
        {
          "output_type": "display_data",
          "data": {
            "text/plain": [
              "<IPython.core.display.HTML object>"
            ],
            "text/html": [
              "<br>    <style><br>        .wandb-row {<br>            display: flex;<br>            flex-direction: row;<br>            flex-wrap: wrap;<br>            justify-content: flex-start;<br>            width: 100%;<br>        }<br>        .wandb-col {<br>            display: flex;<br>            flex-direction: column;<br>            flex-basis: 100%;<br>            flex: 1;<br>            padding: 10px;<br>        }<br>    </style><br><div class=\"wandb-row\"><div class=\"wandb-col\"><h3>Run history:</h3><br/><table class=\"wandb\"><tr><td>batch_size</td><td>▁▁▂▃▄█</td></tr><tr><td>cuda_time</td><td>▁▁▁▁▁▁▁▂▁▂▂▂▂▁▁▁▁▃▁▃▁▁▁▁▁▂▁▃▂▂▁▂▁▁█▂▂▄▄▂</td></tr><tr><td>first_bwd_access</td><td>▁▁▁▁▁▁▁▁▁▁▁▁▁▁▁▁▁▁▁▁▁▁▁▁▁▁▁▁▁▁▁▁▁▁▁▁▁▁▁▁</td></tr><tr><td>first_fwd_access</td><td>▁▁▁▁▁▁▁▁▁▁▁▁▁▁▁▁▁▁▁▁▁▁▁▁▁▁▁▁▁▁▁▁▁▁▁▁▁▁▁▁</td></tr><tr><td>last_bwd_access</td><td>▁▁▁▁▁▁▁▁▁▁▁▁▁▁▁▁▁▁▁▁▁▁▁▁▁▁▁▁▁▁▁▁▁▁▁▁▁▁▁▁</td></tr><tr><td>last_fwd_access</td><td>▁▁▁█▁▁███▁▁▁▁▁▁▁████▁▁▁▁▁▁▁▁▁▁███▁▁▁▁▁██</td></tr><tr><td>lat_no_cp</td><td>▁▃▆█▅▆</td></tr><tr><td>lat_with_cp</td><td>▄▄▁▆▃█</td></tr><tr><td>mem_no_cp</td><td>▁▁▂▃▄█</td></tr><tr><td>mem_with_cp</td><td>▁▁▂▂▄█</td></tr><tr><td>memory_consumed</td><td>▁▁▁▁▁▁▁▁▁▁▁▁▁▁▁▁▁▁▁▁▁▁▂▁▁▁▁▂▂▂▂█▄▁▁▃▃▂▁▁</td></tr><tr><td>swap_in_time</td><td>▁▁▁▁▁▁▁▁▁▁▁▁▁▁▁▁▁▁▁▁▁▁▁▁▁▁▁▁▁▁▁▁▁▁▁▁▁▁▁▁</td></tr><tr><td>swap_out_time</td><td>▁▁▁▁▁▁▁▁▁▁▁▁▁▁▁▁▁▁▁▁▁▁▁▁▁▁▁▁▁▁▁▁▁▁▁▁▁▁▁▁</td></tr></table><br/></div><div class=\"wandb-col\"><h3>Run summary:</h3><br/><table class=\"wandb\"><tr><td>batch_size</td><td>32</td></tr><tr><td>cuda_time</td><td>0.05114</td></tr><tr><td>first_bwd_access</td><td>-1</td></tr><tr><td>first_fwd_access</td><td>0</td></tr><tr><td>last_bwd_access</td><td>-1</td></tr><tr><td>last_fwd_access</td><td>1</td></tr><tr><td>lat_no_cp</td><td>3.55821</td></tr><tr><td>lat_with_cp</td><td>6.54772</td></tr><tr><td>mem_no_cp</td><td>6223881216</td></tr><tr><td>mem_with_cp</td><td>6222177280</td></tr><tr><td>memory_consumed</td><td>128000</td></tr><tr><td>swap_in_time</td><td>0</td></tr><tr><td>swap_out_time</td><td>0</td></tr></table><br/></div></div>"
            ]
          },
          "metadata": {}
        },
        {
          "output_type": "display_data",
          "data": {
            "text/plain": [
              "<IPython.core.display.HTML object>"
            ],
            "text/html": [
              " View run <strong style=\"color:#cdcd00\">floral-shadow-26</strong> at: <a href='https://wandb.ai/rogerwzeng-harvard-university/mu-Two/runs/u0zmxso4' target=\"_blank\">https://wandb.ai/rogerwzeng-harvard-university/mu-Two/runs/u0zmxso4</a><br> View project at: <a href='https://wandb.ai/rogerwzeng-harvard-university/mu-Two' target=\"_blank\">https://wandb.ai/rogerwzeng-harvard-university/mu-Two</a><br>Synced 5 W&B file(s), 0 media file(s), 0 artifact file(s) and 1 other file(s)"
            ]
          },
          "metadata": {}
        },
        {
          "output_type": "display_data",
          "data": {
            "text/plain": [
              "<IPython.core.display.HTML object>"
            ],
            "text/html": [
              "Find logs at: <code>./wandb/run-20250216_175150-u0zmxso4/logs</code>"
            ]
          },
          "metadata": {}
        },
        {
          "output_type": "display_data",
          "data": {
            "text/plain": [
              "<Figure size 1000x500 with 2 Axes>"
            ],
            "image/png": "[encoded data removed]"
          },
          "metadata": {}
        }
      ],
      "source": [
        "# -------------------------------------------------------\n",
        "# Main function\n",
        "# -------------------------------------------------------\n",
        "\n",
        "def profile_resnet():\n",
        "    model = models.resnet152(weights=models.ResNet152_Weights.IMAGENET1K_V1).cuda()\n",
        "    analyzer = MemoryAnalyzer(model)\n",
        "    analyzer.run_analysis()\n",
        "    analyzer.plot_results()\n",
        "\n",
        "def profile_bert():\n",
        "    model = BertModel.from_pretrained('bert-base-uncased').cuda()\n",
        "    analyzer = MemoryAnalyzer(model)\n",
        "    analyzer.run_analysis()\n",
        "    analyzer.plot_results()\n",
        "\n",
        "if __name__ == \"__main__\":\n",
        "   profile_resnet()\n",
        "   #profile_bert()"
      ]
    }
  ]
}